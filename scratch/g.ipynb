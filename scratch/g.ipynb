{
 "cells": [
  {
   "cell_type": "code",
   "execution_count": 1,
   "metadata": {},
   "outputs": [],
   "source": []
  },
  {
   "cell_type": "code",
   "execution_count": 8,
   "metadata": {},
   "outputs": [
    {
     "name": "stdout",
     "output_type": "stream",
     "text": [
      "   A   \n",
      "  ABA  \n",
      " ABCBA \n",
      "ABCDCBA\n"
     ]
    }
   ],
   "source": [
    "l = 4\n",
    "for a in range(1,l+1):\n",
    "    spc = \" \"*(l-a)\n",
    "    val = str(int(\"1\"*a)**2)\n",
    "    v = \"\"\n",
    "    for b in val:\n",
    "        v += chr(int(b) + 64)\n",
    "    print(spc + v + spc)\n"
   ]
  }
 ],
 "metadata": {
  "kernelspec": {
   "display_name": "Python 3",
   "language": "python",
   "name": "python3"
  },
  "language_info": {
   "codemirror_mode": {
    "name": "ipython",
    "version": 3
   },
   "file_extension": ".py",
   "mimetype": "text/x-python",
   "name": "python",
   "nbconvert_exporter": "python",
   "pygments_lexer": "ipython3",
   "version": "3.11.4"
  },
  "orig_nbformat": 4
 },
 "nbformat": 4,
 "nbformat_minor": 2
}
